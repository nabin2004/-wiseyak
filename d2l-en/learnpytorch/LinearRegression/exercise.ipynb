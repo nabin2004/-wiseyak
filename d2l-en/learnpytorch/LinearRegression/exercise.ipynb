{
 "cells": [
  {
   "cell_type": "markdown",
   "metadata": {},
   "source": [
    "1. What would happen if we were to initialize the weights to zero. Would the algorithm\n",
    "still work? What if we initialized the parameters with variance 1000 rather than 0.01?\n",
    "2. Assume that you are Georg Simon Ohm 77 trying to come up with a model for resis-\n",
    "tance that relates voltage and current. Can you use automatic differentiation to learn the\n",
    "parameters of your model?\n",
    "3. Can you use Planck’s Law 78 to determine the temperature of an object using spectral\n",
    "energy density? For reference, the spectral density 𝐵 of radiation emanating from a\n",
    "black body is 𝐵(𝜆, 𝑇) = 2ℎ𝑐2\n",
    "𝜆5 ·\n",
    "(\n",
    "exp ℎ𝑐\n",
    "𝜆𝑘𝑇 − 1\n",
    ") −1\n",
    ". Here 𝜆 is the wavelength, 𝑇 is the\n",
    "temperature, 𝑐 is the speed of light, ℎ is Planck’s constant, and 𝑘 is the Boltzmann\n",
    "constant. You measure the energy for different wavelengths 𝜆 and you now need to fit\n",
    "the spectral density curve to Planck’s law.\n",
    "4. What are the problems you might encounter if you wanted to compute the second deriva-\n",
    "tives of the loss? How would you fix them?\n",
    "5. Why is the reshape method needed in the loss function?\n",
    "6. Experiment using different learning rates to find out how quickly the loss function value\n",
    "drops. Can you reduce the error by increasing the number of epochs of training?\n",
    "\n",
    "7. If the number of examples cannot be divided by the batch size, what happens to data_iter\n",
    "at the end of an epoch?\n",
    "8. Try implementing a different loss function, such as the absolute value loss (y_hat -\n",
    "d2l.reshape(y, y_hat.shape)).abs().sum().\n",
    "1. Check what happens for regular data.\n",
    "2. Check whether there is a difference in behavior if you actively perturb some entries,\n",
    "such as 𝑦5 = 10000, of y.\n",
    "3. Can you think of a cheap solution for combining the best aspects of squared loss and\n",
    "absolute value loss? Hint: how can you avoid really large gradient values?\n",
    "9. Why do we need to reshuffle the dataset? Can you design a case where a maliciously\n",
    "constructed dataset would break the optimization algorithm otherwise?"
   ]
  },
  {
   "cell_type": "code",
   "execution_count": null,
   "metadata": {},
   "outputs": [],
   "source": []
  }
 ],
 "metadata": {
  "kernelspec": {
   "display_name": "d2l",
   "language": "python",
   "name": "python3"
  },
  "language_info": {
   "codemirror_mode": {
    "name": "ipython",
    "version": 3
   },
   "file_extension": ".py",
   "mimetype": "text/x-python",
   "name": "python",
   "nbconvert_exporter": "python",
   "pygments_lexer": "ipython3",
   "version": "3.9.21"
  }
 },
 "nbformat": 4,
 "nbformat_minor": 2
}
